{
 "cells": [
  {
   "cell_type": "code",
   "execution_count": 12,
   "metadata": {},
   "outputs": [],
   "source": [
    "# https://python.langchain.com/docs/integrations/retrievers/merger_retriever/"
   ]
  },
  {
   "cell_type": "code",
   "execution_count": 1,
   "metadata": {},
   "outputs": [],
   "source": [
    "from langchain_community.vectorstores import Chroma\n",
    "from langchain_community.embeddings import OllamaEmbeddings\n",
    "\n",
    "from langchain.retrievers.merger_retriever import MergerRetriever\n",
    "from langchain.document_transformers import EmbeddingsRedundantFilter\n",
    "from langchain.retrievers.document_compressors import DocumentCompressorPipeline\n",
    "from langchain.retrievers import ContextualCompressionRetriever\n",
    "\n",
    "from langchain.chains import RetrievalQA\n",
    "from langchain import PromptTemplate, LLMChain\n",
    "from langchain_community.chat_models import ChatOllama\n",
    "\n",
    "DB_DIR = \"./chroma_db_test\"\n",
    "\n",
    "llm = ChatOllama(model=\"llama2\")"
   ]
  },
  {
   "cell_type": "code",
   "execution_count": 2,
   "metadata": {},
   "outputs": [],
   "source": [
    "# Langsmith - to debug LLM responses\n",
    "\n",
    "import os\n",
    "from dotenv import load_dotenv\n",
    "from langsmith import Client\n",
    "\n",
    "load_dotenv()\n",
    "\n",
    "lcs = os.getenv(\"LANGCHAIN_SECRET\")\n",
    "\n",
    "os.environ[\"LANGCHAIN_TRACING_V2\"] = \"true\"\n",
    "os.environ[\"LANGCHAIN_PROJECT\"] = \"llm-multi-doc-single-vdb\"\n",
    "os.environ[\"LANGCHAIN_ENDPOINT\"] = \"https://api.smith.langchain.com\"\n",
    "os.environ[\"LANGCHAIN_API_KEY\"] = lcs\n",
    "\n",
    "client = Client()"
   ]
  },
  {
   "cell_type": "code",
   "execution_count": 7,
   "metadata": {},
   "outputs": [],
   "source": [
    "sys_docs = Chroma(\n",
    "    collection_name=\"system-documentation\",\n",
    "    persist_directory=DB_DIR,\n",
    "    embedding_function=OllamaEmbeddings(),\n",
    ")\n",
    "\n",
    "llm_papers = Chroma(\n",
    "    collection_name=\"llm-papers\",\n",
    "    persist_directory=DB_DIR,\n",
    "    embedding_function=OllamaEmbeddings(),\n",
    ")\n",
    "\n",
    "ssi_docs = Chroma(\n",
    "    collection_name=\"ssi-docs\",\n",
    "    persist_directory=DB_DIR,\n",
    "    embedding_function=OllamaEmbeddings(),\n",
    ")"
   ]
  },
  {
   "cell_type": "code",
   "execution_count": 8,
   "metadata": {},
   "outputs": [],
   "source": [
    "# Define 3 diff retrievers\n",
    "sys_docs_ret = sys_docs.as_retriever(search_type=\"similarity\", search_kwargs={\"k\": 2})\n",
    "llm_papers_ret = llm_papers.as_retriever(\n",
    "    search_type=\"similarity\", search_kwargs={\"k\": 2}\n",
    ")\n",
    "ssi_docs_ret = ssi_docs.as_retriever(search_type=\"similarity\", search_kwargs={\"k\": 2})\n",
    "\n",
    "# We just pass a list of retrievers.\n",
    "merge_retriever = MergerRetriever(\n",
    "    retrievers=[sys_docs_ret, llm_papers_ret, ssi_docs_ret]\n",
    ")\n",
    "\n",
    "# And if we want to clean the redundant documents \"overlap\" between the 3 retrievers.\n",
    "embeddings_filter = EmbeddingsRedundantFilter(embeddings=OllamaEmbeddings(),similarity_threshold=0.9)\n",
    "pipeline_comp = DocumentCompressorPipeline(transformers=[embeddings_filter])\n",
    "\n",
    "\n",
    "compression_retriever = ContextualCompressionRetriever(\n",
    "    base_compressor=pipeline_comp, base_retriever=merge_retriever\n",
    ")"
   ]
  },
  {
   "cell_type": "code",
   "execution_count": 17,
   "metadata": {},
   "outputs": [],
   "source": [
    "qa_chain = RetrievalQA.from_chain_type(\n",
    "    llm=llm,\n",
    "    chain_type=\"stuff\",\n",
    "    retriever=compression_retriever,\n",
    "    return_source_documents=True,\n",
    ")"
   ]
  },
  {
   "cell_type": "code",
   "execution_count": 29,
   "metadata": {},
   "outputs": [],
   "source": [
    "# response parser\n",
    "def process_llm_response(llm_response):\n",
    "    print(llm_response[\"result\"])\n",
    "    print(\"\\nSources:\")\n",
    "    sources = set([x.metadata[\"source\"] for x in llm_response[\"source_documents\"]])\n",
    "    print(sources)"
   ]
  },
  {
   "cell_type": "code",
   "execution_count": 33,
   "metadata": {},
   "outputs": [
    {
     "name": "stdout",
     "output_type": "stream",
     "text": [
      "In pandas, the `shape` method is used to access and manipulate the dimensions of a DataFrame or Series. The `shape` method returns a tuple containing the number of rows (`nrows`) and columns (`ncolumns`) in the DataFrame or Series.\n",
      "\n",
      "Here are some examples of how you can use the `shape` method:\n",
      "\n",
      "1. Accessing the number of rows and columns in a DataFrame:\n",
      "```\n",
      "df = pd.read_csv('data.csv')\n",
      "print(df.shape) # Output: (nrows, ncolumns)\n",
      "```\n",
      "2. Setting the number of rows and columns in a DataFrame:\n",
      "```\n",
      "# Set the number of rows to 10\n",
      "df = df.shape((10,))\n",
      "\n",
      "# Set the number of columns to 5\n",
      "df = df.shape((5,))\n",
      "```\n",
      "3. Accessing the dimensions of a Series:\n",
      "```\n",
      "s = pd.Series([1, 2, 3])\n",
      "print(s.shape) # Output: (nrows, ncolumns)\n",
      "```\n",
      "4. Setting the dimensions of a Series:\n",
      "```\n",
      "# Set the number of rows to 5\n",
      "s = s.shape((5,))\n",
      "\n",
      "# Set the number of columns to 3\n",
      "s = s.shape((3, 5))\n",
      "```\n",
      "5. Accessing the dimensions of a DataFrame with multiple indices:\n",
      "```\n",
      "df = pd.read_csv('data.csv', index_col='date', columns=['value'])\n",
      "print(df.shape) # Output: (nrows, ncolumns)\n",
      "```\n",
      "6. Setting the dimensions of a DataFrame with multiple indices:\n",
      "```\n",
      "# Set the number of rows to 10\n",
      "df = df.shape((10,))\n",
      "\n",
      "# Set the number of columns to 5\n",
      "df = df.shape((5,))\n",
      "```\n",
      "Note that when you set the dimensions of a DataFrame or Series using the `shape` method, pandas will automatically perform any necessary reshaping to accommodate your desired dimensions. This can be useful for quickly reshaping data without having to manually manipulate the data.\n",
      "\n",
      "Sources:\n",
      "{'data/system-documentation/pandas-basics.html', 'data/llm-papers/openai-paper.pdf', 'data/ssi-docs/db-ssi.pdf'}\n"
     ]
    }
   ],
   "source": [
    "process_llm_response(\n",
    "    qa_chain.invoke(\n",
    "        \"Can you please tell me about pandas shape method?\"\n",
    "    )\n",
    ")"
   ]
  },
  {
   "cell_type": "code",
   "execution_count": 32,
   "metadata": {},
   "outputs": [
    {
     "name": "stdout",
     "output_type": "stream",
     "text": [
      "The authors of the paper titled \"Sparks of Artificial General Intelligence\" are:\n",
      "\n",
      "* David J. D. Bennett\n",
      "* Slav Petrov\n",
      "* Julian Togelius\n",
      "\n",
      "They are from the following institutions:\n",
      "\n",
      "* University of California, Berkeley\n",
      "* New York University\n",
      "* Cornell University\n",
      "\n",
      "The paper was published in the Proceedings of the 36th International Conference on Machine Learning, 2019.\n",
      "\n",
      "Sources:\n",
      "{'data/system-documentation/pandas-basics.html', 'data/llm-papers/openai-paper.pdf', 'data/ssi-docs/db-ssi.pdf'}\n"
     ]
    }
   ],
   "source": [
    "process_llm_response(\n",
    "    qa_chain.invoke(\n",
    "        \"Using can you please give me authors of the paper titled Sparks of Artificial General Intelligence?\"\n",
    "    )\n",
    ")"
   ]
  },
  {
   "cell_type": "code",
   "execution_count": 18,
   "metadata": {},
   "outputs": [
    {
     "name": "stdout",
     "output_type": "stream",
     "text": [
      "Certainly! Here are some details about the Czech Republic:\n",
      "\n",
      "1. Capital City: The capital city of the Czech Republic is Prague (Czech: Praha).\n",
      "2. Language: The official language of the Czech Republic is Czech, a Slavic language closely related to Slovak. English is also widely spoken, particularly among young people and those in the service industry.\n",
      "3. Currency: The currency of the Czech Republic is the Czech koruna (CZK), which is divided into 100 haléřů.\n",
      "4. Population: As of 2020, the population of the Czech Republic is approximately 10.6 million people.\n",
      "5. Area: The Czech Republic has a total area of around 78,866 square kilometers (30,452 square miles), making it slightly smaller than the state of Ohio in the United States.\n",
      "6. Bordering Countries: The Czech Republic is bordered by Germany to the west, Austria to the south, Slovakia to the east and Poland to the northeast.\n",
      "7. Climate: The Czech Republic has a temperate climate with four distinct seasons. Summers can be warm (average high temperature in July: 22°C/72°F), while winters can be cold (average low temperature in January: -3°C/27°F).\n",
      "8. Economy: The Czech Republic has a developed economy and is a member of the European Union, Eurozone, and OECD. Its main industries include automotive manufacturing, electronics, pharmaceuticals, and brewing.\n",
      "9. Education: The Czech Republic has a well-developed education system, with a range of primary, secondary, and tertiary schools and universities. The University of Prague is one of the most prestigious institutions in the country.\n",
      "10. Culture: Czech culture is rich in history, literature, music, and art. Some notable figures in Czech history include Charles IV, Jan Hus, and Franz Kafka. Czech literature includes works by Božena Němcová, Jaroslav Hašek, and Milan Kundera.\n",
      "\n",
      "I hope you find these details helpful! Let me know if you have any other questions.\n",
      "\n",
      "\n",
      "Sources:\n",
      "data/system-documentation/pandas-basics.html\n",
      "data/llm-papers/openai-paper.pdf\n",
      "data/ssi-docs/db-ssi.pdf\n",
      "data/system-documentation/pandas-basics.html\n",
      "data/llm-papers/openai-paper.pdf\n",
      "data/ssi-docs/db-ssi.pdf\n"
     ]
    }
   ],
   "source": [
    "process_llm_response(\n",
    "    qa_chain.invoke(\"Can you please give me details for CZECH REP?\")\n",
    ")"
   ]
  },
  {
   "cell_type": "code",
   "execution_count": 14,
   "metadata": {},
   "outputs": [],
   "source": [
    "loader = UnstructuredFileLoader(\"NER.txt\")\n",
    "document = loader.load()\n",
    "separators = [\"。\", \" \"]\n",
    "text_splitter = RecursiveCharacterTextSplitter(separators=separators, chunk_size=500, chunk_overlap=0)\n",
    "texts = text_splitter.split_documents(document)\n",
    "embeddings = OpenAIEmbeddings()\n",
    "relevant_filter = EmbeddingsFilter(embeddings=embeddings, similarity_threshold=0.81)\n",
    "retriever = FAISS.from_documents(texts, OpenAIEmbeddings()).as_retriever() # base retriever\n",
    "compression_retriever = ContextualCompressionRetriever(base_compressor=relevant_filter, base_retriever=retriever) # document compression retriver\n",
    "\n",
    "from langchain.prompts import PromptTemplate\n",
    "prompt_template1 = \"\"\"plase use context to answer question.\n",
    "\n",
    "{context}\n",
    "\n",
    "question: {question}\n",
    "anwser:\"\"\"\n",
    "PROMPT = PromptTemplate(\n",
    "    template=prompt_template1, input_variables=[\"context\", \"question\"]\n",
    ")\n",
    "chain_type_kwargs = {\"prompt\": PROMPT,'verbose': True}\n",
    "qa = RetrievalQA.from_chain_type(llm=OpenAI( verbose=True), chain_type=\"stuff\", retriever=compression_retriever,return_source_documents=True, chain_type_kwargs=chain_type_kwargs)\n",
    "\n",
    "query = \"balabalabala\" # replace it with question\n",
    "result = qa({\"query\": query})\n",
    "print(result)```\n"
   ]
  },
  {
   "cell_type": "code",
   "execution_count": null,
   "metadata": {},
   "outputs": [],
   "source": []
  }
 ],
 "metadata": {
  "kernelspec": {
   "display_name": "test-lab-310",
   "language": "python",
   "name": "python3"
  },
  "language_info": {
   "codemirror_mode": {
    "name": "ipython",
    "version": 3
   },
   "file_extension": ".py",
   "mimetype": "text/x-python",
   "name": "python",
   "nbconvert_exporter": "python",
   "pygments_lexer": "ipython3",
   "version": "3.10.13"
  }
 },
 "nbformat": 4,
 "nbformat_minor": 2
}
