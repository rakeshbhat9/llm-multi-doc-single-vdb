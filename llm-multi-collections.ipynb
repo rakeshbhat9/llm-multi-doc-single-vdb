{
 "cells": [
  {
   "cell_type": "markdown",
   "metadata": {},
   "source": [
    "### Reference Documentation"
   ]
  },
  {
   "cell_type": "code",
   "execution_count": 1,
   "metadata": {},
   "outputs": [],
   "source": [
    "# https://python.langchain.com/docs/integrations/retrievers/merger_retriever/\n",
    "# https://python.langchain.com/docs/modules/data_connection/retrievers/contextual_compression/"
   ]
  },
  {
   "cell_type": "markdown",
   "metadata": {},
   "source": [
    "### Imports"
   ]
  },
  {
   "cell_type": "code",
   "execution_count": 5,
   "metadata": {},
   "outputs": [],
   "source": [
    "from langchain_community.vectorstores import Chroma\n",
    "from langchain_community.embeddings import OllamaEmbeddings # defaults to llama2\n",
    "\n",
    "from langchain.retrievers.merger_retriever import MergerRetriever\n",
    "\n",
    "DB_DIR = \"./chroma_db_test\""
   ]
  },
  {
   "cell_type": "markdown",
   "metadata": {},
   "source": [
    "### Langsmith setup to debug chain in detail"
   ]
  },
  {
   "cell_type": "code",
   "execution_count": 2,
   "metadata": {},
   "outputs": [],
   "source": [
    "# Langsmith - to debug LLM responses\n",
    "\n",
    "import os\n",
    "from dotenv import load_dotenv\n",
    "from langsmith import Client\n",
    "\n",
    "load_dotenv()\n",
    "\n",
    "lcs = os.getenv(\"LANGCHAIN_SECRET\")\n",
    "\n",
    "os.environ[\"LANGCHAIN_TRACING_V2\"] = \"true\"\n",
    "os.environ[\"LANGCHAIN_PROJECT\"] = \"llm-multi-doc-single-vdb\"\n",
    "os.environ[\"LANGCHAIN_ENDPOINT\"] = \"https://api.smith.langchain.com\"\n",
    "os.environ[\"LANGCHAIN_API_KEY\"] = lcs\n",
    "\n",
    "client = Client()"
   ]
  },
  {
   "cell_type": "markdown",
   "metadata": {},
   "source": [
    "### Load all collections and create LOTR retriever"
   ]
  },
  {
   "cell_type": "code",
   "execution_count": 6,
   "metadata": {},
   "outputs": [],
   "source": [
    "sys_docs = Chroma(\n",
    "    collection_name=\"system-documentation\",\n",
    "    persist_directory=DB_DIR,\n",
    "    embedding_function=OllamaEmbeddings(),\n",
    ")\n",
    "\n",
    "llm_papers = Chroma(\n",
    "    collection_name=\"llm-papers\",\n",
    "    persist_directory=DB_DIR,\n",
    "    embedding_function=OllamaEmbeddings(),\n",
    ")\n",
    "\n",
    "ssi_docs = Chroma(\n",
    "    collection_name=\"ssi-docs\",\n",
    "    persist_directory=DB_DIR,\n",
    "    embedding_function=OllamaEmbeddings(),\n",
    ")"
   ]
  },
  {
   "cell_type": "code",
   "execution_count": 7,
   "metadata": {},
   "outputs": [],
   "source": [
    "# Define 3 diff retrievers\n",
    "sys_docs_ret = sys_docs.as_retriever(search_type=\"similarity\", search_kwargs={\"k\": 2})\n",
    "llm_papers_ret = llm_papers.as_retriever(\n",
    "    search_type=\"similarity\", search_kwargs={\"k\": 2}\n",
    ")\n",
    "ssi_docs_ret = ssi_docs.as_retriever(search_type=\"similarity\", search_kwargs={\"k\": 2})\n",
    "\n",
    "# We just pass a list of retrievers.\n",
    "merge_retriever = MergerRetriever(\n",
    "    retrievers=[sys_docs_ret, llm_papers_ret, ssi_docs_ret]\n",
    ")"
   ]
  },
  {
   "cell_type": "markdown",
   "metadata": {},
   "source": [
    "### Document Filtering using LLMChainFilter"
   ]
  },
  {
   "cell_type": "markdown",
   "metadata": {},
   "source": [
    "As seen in llm-multi-collections-doc-filtering-testing.ipynb notebook, tested various filters available in Langchain; combination of Mistral and LLMChainFilter yielded best results in testing."
   ]
  },
  {
   "cell_type": "code",
   "execution_count": 8,
   "metadata": {},
   "outputs": [],
   "source": [
    "# moving the import here, easier to chop and change\n",
    "\n",
    "from langchain.retrievers.document_compressors import DocumentCompressorPipeline,LLMChainFilter\n",
    "from langchain.retrievers import ContextualCompressionRetriever"
   ]
  },
  {
   "cell_type": "code",
   "execution_count": 12,
   "metadata": {},
   "outputs": [],
   "source": [
    "from langchain_community.llms import Ollama\n",
    "llm = Ollama(model=\"mistral\")"
   ]
  },
  {
   "cell_type": "code",
   "execution_count": 14,
   "metadata": {},
   "outputs": [
    {
     "name": "stderr",
     "output_type": "stream",
     "text": [
      "/home/rbhat-win/miniconda3/envs/test-lab-310/lib/python3.10/site-packages/langchain/chains/llm.py:316: UserWarning: The predict_and_parse method is deprecated, instead pass an output parser directly to LLMChain.\n",
      "  warnings.warn(\n",
      "/home/rbhat-win/miniconda3/envs/test-lab-310/lib/python3.10/site-packages/langchain/chains/llm.py:316: UserWarning: The predict_and_parse method is deprecated, instead pass an output parser directly to LLMChain.\n",
      "  warnings.warn(\n",
      "/home/rbhat-win/miniconda3/envs/test-lab-310/lib/python3.10/site-packages/langchain/chains/llm.py:316: UserWarning: The predict_and_parse method is deprecated, instead pass an output parser directly to LLMChain.\n",
      "  warnings.warn(\n",
      "/home/rbhat-win/miniconda3/envs/test-lab-310/lib/python3.10/site-packages/langchain/chains/llm.py:316: UserWarning: The predict_and_parse method is deprecated, instead pass an output parser directly to LLMChain.\n",
      "  warnings.warn(\n",
      "/home/rbhat-win/miniconda3/envs/test-lab-310/lib/python3.10/site-packages/langchain/chains/llm.py:316: UserWarning: The predict_and_parse method is deprecated, instead pass an output parser directly to LLMChain.\n",
      "  warnings.warn(\n",
      "/home/rbhat-win/miniconda3/envs/test-lab-310/lib/python3.10/site-packages/langchain/chains/llm.py:316: UserWarning: The predict_and_parse method is deprecated, instead pass an output parser directly to LLMChain.\n",
      "  warnings.warn(\n"
     ]
    },
    {
     "data": {
      "text/plain": [
       "[Document(page_content='Sparks of Artiﬁcial General Intelligence:\\nEarly experiments with GPT-4\\nS´ ebastien Bubeck Varun Chandrasekaran Ronen Eldan Johannes Gehrke\\nEric Horvitz Ece Kamar Peter Lee Yin Tat Lee Yuanzhi Li Scott Lundberg\\nHarsha Nori Hamid Palangi Marco Tulio Ribeiro Yi Zhang\\nMicrosoft Research\\nAbstract\\nArtiﬁcial intelligence (AI) researchers have been developing and reﬁning large language models (LLMs)\\nthat exhibit remarkable capabilities across a variety of domains and tasks, challenging our understanding\\nof learning and cognition. The latest model developed by OpenAI, GPT-4 [Ope23], was trained using an\\nunprecedented scale of compute and data. In this paper, we report on our investigation of an early version\\nof GPT-4, when it was still in active development by OpenAI. We contend that (this early version of) GPT-\\n4 is part of a new cohort of LLMs (along with ChatGPT and Google’s PaLM for example) that exhibit\\nmore general intelligence than previous AI models. We discuss the rising capabilities and implications of\\nthese models. We demonstrate that, beyond its mastery of language, GPT-4 can solve novel and diﬃcult\\ntasks that span mathematics, coding, vision, medicine, law, psychology and more, without needing any\\nspecial prompting. Moreover, in all of these tasks, GPT-4’s performance is strikingly close to human-level\\nperformance, and often vastly surpasses prior models such as ChatGPT. Given the breadth and depth of\\nGPT-4’s capabilities, we believe that it could reasonably be viewed as an early (yet still incomplete) version\\nof an artiﬁcial general intelligence (AGI) system. In our exploration of GPT-4, we put special emphasis\\non discovering its limitations, and we discuss the challenges ahead for advancing towards deeper and more\\ncomprehensive versions of AGI, including the possible need for pursuing a new paradigm that moves beyond\\nnext-word prediction. We conclude with reﬂections on societal inﬂuences of the recent technological leap and\\nfuture research directions.\\nContents\\n1 Introduction 4\\n1.1 Our approach to studying GPT-4’s intelligence . . . . . . . . . . . . . . . . . . . . . . . . . . 6\\n1.2 Organization of our demonstration . . . . . . . . . . . . . . . . . . . . . . . . . . . . . . . . . 8\\n2 Multimodal and interdisciplinary composition 13\\n2.1 Integrative ability . . . . . . . . . . . . . . . . . . . . . . . . . . . . . . . . . . . . . . . . . . . 13\\n2.2 Vision . . . . . . . . . . . . . . . . . . . . . . . . . . . . . . . . . . . . . . . . . . . . . . . . . 16\\n2.2.1 Image generation beyond memorization . . . . . . . . . . . . . . . . . . . . . . . . . . 16\\n2.2.2 Image generation following detailed instructions (` a la Dall-E) . . . . . . . . . . . . . . 17\\n2.2.3 Possible application in sketch generation . . . . . . . . . . . . . . . . . . . . . . . . . . 18\\n2.3 Music . . . . . . . . . . . . . . . . . . . . . . . . . . . . . . . . . . . . . . . . . . . . . . . . . 19\\n3 Coding 21\\n3.1 From instructions to code . . . . . . . . . . . . . . . . . . . . . . . . . . . . . . . . . . . . . . 21\\n3.1.1 Coding challenges . . . . . . . . . . . . . . . . . . . . . . . . . . . . . . . . . . . . . . 21\\n3.1.2 Real world scenarios . . . . . . . . . . . . . . . . . . . . . . . . . . . . . . . . . . . . . 22\\n3.2 Understanding existing code . . . . . . . . . . . . . . . . . . . . . . . . . . . . . . . . . . . . . 26\\n1arXiv:2303.12712v5  [cs.CL]  13 Apr 2023', metadata={'page': 0, 'source': 'data/llm-papers/openai-paper.pdf'})]"
      ]
     },
     "execution_count": 14,
     "metadata": {},
     "output_type": "execute_result"
    }
   ],
   "source": [
    "relevant_filter = LLMChainFilter.from_llm(llm)\n",
    "pipeline_comp = DocumentCompressorPipeline(transformers=[relevant_filter])\n",
    "\n",
    "compression_retriever = ContextualCompressionRetriever(\n",
    "    base_compressor=pipeline_comp, base_retriever=merge_retriever\n",
    ")\n",
    "\n",
    "compression_retriever.get_relevant_documents(\"Who are the authors of Sparks of Artificial General Intelligence?\")\n",
    "\n",
    "# As seen below, llm chain has returned 5 instead of baseline 6 documents."
   ]
  },
  {
   "cell_type": "code",
   "execution_count": 16,
   "metadata": {},
   "outputs": [
    {
     "name": "stderr",
     "output_type": "stream",
     "text": [
      "/home/rbhat-win/miniconda3/envs/test-lab-310/lib/python3.10/site-packages/langchain/chains/llm.py:316: UserWarning: The predict_and_parse method is deprecated, instead pass an output parser directly to LLMChain.\n",
      "  warnings.warn(\n",
      "/home/rbhat-win/miniconda3/envs/test-lab-310/lib/python3.10/site-packages/langchain/chains/llm.py:316: UserWarning: The predict_and_parse method is deprecated, instead pass an output parser directly to LLMChain.\n",
      "  warnings.warn(\n",
      "/home/rbhat-win/miniconda3/envs/test-lab-310/lib/python3.10/site-packages/langchain/chains/llm.py:316: UserWarning: The predict_and_parse method is deprecated, instead pass an output parser directly to LLMChain.\n",
      "  warnings.warn(\n",
      "/home/rbhat-win/miniconda3/envs/test-lab-310/lib/python3.10/site-packages/langchain/chains/llm.py:316: UserWarning: The predict_and_parse method is deprecated, instead pass an output parser directly to LLMChain.\n",
      "  warnings.warn(\n",
      "/home/rbhat-win/miniconda3/envs/test-lab-310/lib/python3.10/site-packages/langchain/chains/llm.py:316: UserWarning: The predict_and_parse method is deprecated, instead pass an output parser directly to LLMChain.\n",
      "  warnings.warn(\n",
      "/home/rbhat-win/miniconda3/envs/test-lab-310/lib/python3.10/site-packages/langchain/chains/llm.py:316: UserWarning: The predict_and_parse method is deprecated, instead pass an output parser directly to LLMChain.\n",
      "  warnings.warn(\n"
     ]
    },
    {
     "data": {
      "text/plain": [
       "[Document(page_content='In [293]: s\\nOut[293]: \\n0   1 days 00:00:05\\n1   1 days 00:00:06\\n2   1 days 00:00:07\\n3   1 days 00:00:08\\ndtype: timedelta64[ns]\\n\\nIn [294]: s.dt.days\\nOut[294]: \\n0    1\\n1    1\\n2    1\\n3    1\\ndtype: int64\\n\\nIn [295]: s.dt.seconds\\nOut[295]: \\n0    5\\n1    6\\n2    7\\n3    8\\ndtype: int32\\n\\nIn [296]: s.dt.components\\nOut[296]: \\n   days  hours  minutes  seconds  milliseconds  microseconds  nanoseconds\\n0     1      0        0        5             0             0            0\\n1     1      0        0        6             0             0            0\\n2     1      0        0        7             0             0            0\\n3     1      0        0        8             0             0            0\\n\\n\\n\\nNote\\nSeries.dt will raise a TypeError if you access with a non-datetime-like values.', metadata={'source': 'data/system-documentation/pandas-basics.html', 'title': 'Essential basic functionality — pandas 2.2.2 documentation'})]"
      ]
     },
     "execution_count": 16,
     "metadata": {},
     "output_type": "execute_result"
    }
   ],
   "source": [
    "compression_retriever.get_relevant_documents(\"How do I check shape of data in pandas?\")"
   ]
  },
  {
   "cell_type": "code",
   "execution_count": 18,
   "metadata": {},
   "outputs": [
    {
     "name": "stderr",
     "output_type": "stream",
     "text": [
      "/home/rbhat-win/miniconda3/envs/test-lab-310/lib/python3.10/site-packages/langchain/chains/llm.py:316: UserWarning: The predict_and_parse method is deprecated, instead pass an output parser directly to LLMChain.\n",
      "  warnings.warn(\n",
      "/home/rbhat-win/miniconda3/envs/test-lab-310/lib/python3.10/site-packages/langchain/chains/llm.py:316: UserWarning: The predict_and_parse method is deprecated, instead pass an output parser directly to LLMChain.\n",
      "  warnings.warn(\n",
      "/home/rbhat-win/miniconda3/envs/test-lab-310/lib/python3.10/site-packages/langchain/chains/llm.py:316: UserWarning: The predict_and_parse method is deprecated, instead pass an output parser directly to LLMChain.\n",
      "  warnings.warn(\n",
      "/home/rbhat-win/miniconda3/envs/test-lab-310/lib/python3.10/site-packages/langchain/chains/llm.py:316: UserWarning: The predict_and_parse method is deprecated, instead pass an output parser directly to LLMChain.\n",
      "  warnings.warn(\n",
      "/home/rbhat-win/miniconda3/envs/test-lab-310/lib/python3.10/site-packages/langchain/chains/llm.py:316: UserWarning: The predict_and_parse method is deprecated, instead pass an output parser directly to LLMChain.\n",
      "  warnings.warn(\n",
      "/home/rbhat-win/miniconda3/envs/test-lab-310/lib/python3.10/site-packages/langchain/chains/llm.py:316: UserWarning: The predict_and_parse method is deprecated, instead pass an output parser directly to LLMChain.\n",
      "  warnings.warn(\n"
     ]
    },
    {
     "data": {
      "text/plain": [
       "[Document(page_content='Deutsche Bank AG, Frankfurt Cash Equities    \\n                           \\n \\n  \\n3 | P a g e   \\nJanuary 2021  \\n For internal use only  COUNTRY                 SETTLEMENT INSTRUCTIONS                        SWIFT CODE   \\n  \\n  \\nEUROCLEAR                   Euroclear. Brussels                                                           MGTCBEBEECL  \\n                                          A/C 77838  \\n                                          Place of settlement = MGTCBEBEXXX  \\n    \\n  \\n  \\nESTONIA                          SWEDBANK AS                                                                          HABAEE2 XXXX  \\nA/c no: 99103794855                                                                               \\nPlace of settlement =  ECSD EE2XXXX  \\n  \\n  \\nFINLAND                         Nordea Bank AB (publ), Finnish Branch                         NDEAFIHHXXX  \\n                                         Place of settlement = APKEFIHHXXX   \\n  \\n   \\n  \\nFRANCE                         Deutsche Bank Custody, NV                                                        DEUTNL2AXXX                                          \\n                                        Place of settlement = SICVFRPPXXX  \\n  \\n  \\n    \\n \\nGERMANY                       Deutsche Bank, Frankfurt                                      \\n                                         Stock A/C 100970228300  \\n                                         KV - 7015  \\n                                         Place of settlement = DAKVDEFFXXX  \\n  \\n                                         (For Cedel/ Clearstream Banking Frankfurt)  \\n                                         Acc: C67015  \\n                                         Place of settlement = CEDELULLXXX  \\n  \\n  \\nGREECE                           Agency:        DEUTDEFFCUS  \\n                 Citibank, Athens                                                        \\n                                         A/C 986982 (stock)  \\n                                         Place of settlement = HCSDGRAAXXX  \\n                                         Use Beneficiary BIC - DEUTGB22EEQ    \\n  \\n                 Custody:       CITIGRAAXXX                                          \\n                 Citibank, Athens                                                        \\n                                         A/C 986981 (stock)  \\n                                         Place of settlement = HCSDGRAAXXX  \\n                                         Use Beneficiary BIC - DEUTGB22EEQ    \\n  \\n         CITIGRAAXXX                                          \\nHONGKONG                    Deutsche Securities Asia Ltd                                 \\n                                          CCASS ID. B01323  \\n                                          A/C B0132334 (stock)  \\n                                          Place of settlement = XHKCHKH1XXX  \\n   \\n            DSALHKH1XXX  \\nHUNGARY                        DB Budapest (KELR code to be used)                  \\n                                          A/c 1002002624 (stock)  \\n                                          Place of settlement = KELRHUHBXXX  \\n                                          Use Beneficiary BIC - DEUTGB22EEQ          0390 ( KELR)', metadata={'page': 2, 'source': 'data/ssi-docs/db-ssi.pdf'})]"
      ]
     },
     "execution_count": 18,
     "metadata": {},
     "output_type": "execute_result"
    }
   ],
   "source": [
    "compression_retriever.get_relevant_documents(\"Please provide settlement instructions for BAHRAIN\")"
   ]
  },
  {
   "cell_type": "code",
   "execution_count": null,
   "metadata": {},
   "outputs": [],
   "source": []
  },
  {
   "cell_type": "markdown",
   "metadata": {},
   "source": [
    "### LLM QA Chain "
   ]
  },
  {
   "cell_type": "code",
   "execution_count": 27,
   "metadata": {},
   "outputs": [],
   "source": [
    "from langchain_community.chat_models import ChatOllama\n",
    "from langchain.chains import RetrievalQA\n",
    "\n",
    "llm = ChatOllama(model=\"mistral\")"
   ]
  },
  {
   "cell_type": "markdown",
   "metadata": {},
   "source": [
    "The final chain doesn't need much work. All heavy lifting should be done in retriever space to pass correct document to LLM. Couldn't use llam3 as invoke was not returning any value even after a minute."
   ]
  },
  {
   "cell_type": "code",
   "execution_count": 28,
   "metadata": {},
   "outputs": [],
   "source": [
    "qa_chain = RetrievalQA.from_chain_type(\n",
    "    llm=llm,\n",
    "    chain_type=\"stuff\",\n",
    "    retriever=compression_retriever,\n",
    "    return_source_documents=True,\n",
    ")"
   ]
  },
  {
   "cell_type": "code",
   "execution_count": 29,
   "metadata": {},
   "outputs": [],
   "source": [
    "# response parser\n",
    "def process_llm_response(llm_response):\n",
    "    print(llm_response[\"result\"])\n",
    "    print(\"\\nSources:\")\n",
    "    sources = set([x.metadata[\"source\"] for x in llm_response[\"source_documents\"]])\n",
    "    print(sources)"
   ]
  },
  {
   "cell_type": "markdown",
   "metadata": {},
   "source": []
  },
  {
   "cell_type": "markdown",
   "metadata": {},
   "source": [
    "[Langsmith Trace](https://smith.langchain.com/public/c1e69c6a-f9d2-40bf-86cc-bf87c52c4366/r)"
   ]
  },
  {
   "cell_type": "code",
   "execution_count": 30,
   "metadata": {},
   "outputs": [
    {
     "name": "stderr",
     "output_type": "stream",
     "text": [
      "/home/rbhat-win/miniconda3/envs/test-lab-310/lib/python3.10/site-packages/langchain/chains/llm.py:316: UserWarning: The predict_and_parse method is deprecated, instead pass an output parser directly to LLMChain.\n",
      "  warnings.warn(\n",
      "/home/rbhat-win/miniconda3/envs/test-lab-310/lib/python3.10/site-packages/langchain/chains/llm.py:316: UserWarning: The predict_and_parse method is deprecated, instead pass an output parser directly to LLMChain.\n",
      "  warnings.warn(\n",
      "/home/rbhat-win/miniconda3/envs/test-lab-310/lib/python3.10/site-packages/langchain/chains/llm.py:316: UserWarning: The predict_and_parse method is deprecated, instead pass an output parser directly to LLMChain.\n",
      "  warnings.warn(\n",
      "/home/rbhat-win/miniconda3/envs/test-lab-310/lib/python3.10/site-packages/langchain/chains/llm.py:316: UserWarning: The predict_and_parse method is deprecated, instead pass an output parser directly to LLMChain.\n",
      "  warnings.warn(\n",
      "/home/rbhat-win/miniconda3/envs/test-lab-310/lib/python3.10/site-packages/langchain/chains/llm.py:316: UserWarning: The predict_and_parse method is deprecated, instead pass an output parser directly to LLMChain.\n",
      "  warnings.warn(\n",
      "/home/rbhat-win/miniconda3/envs/test-lab-310/lib/python3.10/site-packages/langchain/chains/llm.py:316: UserWarning: The predict_and_parse method is deprecated, instead pass an output parser directly to LLMChain.\n",
      "  warnings.warn(\n"
     ]
    },
    {
     "name": "stdout",
     "output_type": "stream",
     "text": [
      " The authors of \"Sparks of Artificial General Intelligence\" are: Sebastien Bubeck, Varun Chandrasekaran, Ronen Eldan, Eric Horvitz, Ece Kamar, Peter Lee, Yin Tat Lee, Yuanzhi Li, Harsha Nori, Hamid Palangi, Marco Tulio Ribeiro, and Yi Zhang.\n",
      "\n",
      "Sources:\n",
      "{'data/llm-papers/openai-paper.pdf'}\n"
     ]
    }
   ],
   "source": [
    "process_llm_response(\n",
    "    qa_chain.invoke(\n",
    "        \"Who are the authors of Sparks of Artificial General Intelligence?\"\n",
    "    )\n",
    ")"
   ]
  },
  {
   "cell_type": "markdown",
   "metadata": {},
   "source": []
  },
  {
   "cell_type": "markdown",
   "metadata": {},
   "source": [
    "[Langsmith Trace](https://smith.langchain.com/public/ace34b1f-f899-4dfd-8ffd-9cddd2186c06/r)"
   ]
  },
  {
   "cell_type": "code",
   "execution_count": 32,
   "metadata": {},
   "outputs": [
    {
     "name": "stderr",
     "output_type": "stream",
     "text": [
      "/home/rbhat-win/miniconda3/envs/test-lab-310/lib/python3.10/site-packages/langchain/chains/llm.py:316: UserWarning: The predict_and_parse method is deprecated, instead pass an output parser directly to LLMChain.\n",
      "  warnings.warn(\n",
      "/home/rbhat-win/miniconda3/envs/test-lab-310/lib/python3.10/site-packages/langchain/chains/llm.py:316: UserWarning: The predict_and_parse method is deprecated, instead pass an output parser directly to LLMChain.\n",
      "  warnings.warn(\n",
      "/home/rbhat-win/miniconda3/envs/test-lab-310/lib/python3.10/site-packages/langchain/chains/llm.py:316: UserWarning: The predict_and_parse method is deprecated, instead pass an output parser directly to LLMChain.\n",
      "  warnings.warn(\n",
      "/home/rbhat-win/miniconda3/envs/test-lab-310/lib/python3.10/site-packages/langchain/chains/llm.py:316: UserWarning: The predict_and_parse method is deprecated, instead pass an output parser directly to LLMChain.\n",
      "  warnings.warn(\n",
      "/home/rbhat-win/miniconda3/envs/test-lab-310/lib/python3.10/site-packages/langchain/chains/llm.py:316: UserWarning: The predict_and_parse method is deprecated, instead pass an output parser directly to LLMChain.\n",
      "  warnings.warn(\n",
      "/home/rbhat-win/miniconda3/envs/test-lab-310/lib/python3.10/site-packages/langchain/chains/llm.py:316: UserWarning: The predict_and_parse method is deprecated, instead pass an output parser directly to LLMChain.\n",
      "  warnings.warn(\n"
     ]
    },
    {
     "name": "stdout",
     "output_type": "stream",
     "text": [
      " To check the shape (number of rows and columns) of a Pandas Series, you can use the `shape` attribute or the `size` attribute. Here's how to use them:\n",
      "\n",
      "```python\n",
      "In [297]: s.shape  # number of rows and number of columns as a tuple (row, column)\n",
      "Out[297]: (len(s),)\n",
      "\n",
      "In [298]: s.size        # total number of elements in the Series\n",
      "Out[298]: len(s)\n",
      "```\n",
      "\n",
      "However, since you provided a datetime Series, let me clarify that: The code snippets given earlier were showing how to extract various components from each element (i.e., timedelta64 values) of the Series named `s`. In this case, there are no missing data as all elements have equal shape (one-dimensional with a single row). Therefore, the shape and size will be 1 for the entire Series or equivalently, the number of elements in it.\n",
      "\n",
      "To summarize:\n",
      "\n",
      "1. To check the shape or size of a Series, use `shape` or `size`.\n",
      "2. In this specific example, since the Series contains equal-shaped datetime values, both shape and size will be 1.\n",
      "\n",
      "Sources:\n",
      "{'data/system-documentation/pandas-basics.html'}\n"
     ]
    }
   ],
   "source": [
    "process_llm_response(\n",
    "    qa_chain.invoke(\n",
    "        \"How do I check shape of data in pandas?\"\n",
    "    )\n",
    ")"
   ]
  },
  {
   "cell_type": "code",
   "execution_count": null,
   "metadata": {},
   "outputs": [],
   "source": []
  },
  {
   "cell_type": "markdown",
   "metadata": {},
   "source": [
    "[Langmith Trace](https://smith.langchain.com/public/e2a29900-6067-4503-a455-39613b75f258/r/725fd87b-787a-4e4d-8538-59e1a5543d6c)"
   ]
  },
  {
   "cell_type": "code",
   "execution_count": 33,
   "metadata": {},
   "outputs": [
    {
     "name": "stderr",
     "output_type": "stream",
     "text": [
      "/home/rbhat-win/miniconda3/envs/test-lab-310/lib/python3.10/site-packages/langchain/chains/llm.py:316: UserWarning: The predict_and_parse method is deprecated, instead pass an output parser directly to LLMChain.\n",
      "  warnings.warn(\n",
      "/home/rbhat-win/miniconda3/envs/test-lab-310/lib/python3.10/site-packages/langchain/chains/llm.py:316: UserWarning: The predict_and_parse method is deprecated, instead pass an output parser directly to LLMChain.\n",
      "  warnings.warn(\n",
      "/home/rbhat-win/miniconda3/envs/test-lab-310/lib/python3.10/site-packages/langchain/chains/llm.py:316: UserWarning: The predict_and_parse method is deprecated, instead pass an output parser directly to LLMChain.\n",
      "  warnings.warn(\n",
      "/home/rbhat-win/miniconda3/envs/test-lab-310/lib/python3.10/site-packages/langchain/chains/llm.py:316: UserWarning: The predict_and_parse method is deprecated, instead pass an output parser directly to LLMChain.\n",
      "  warnings.warn(\n",
      "/home/rbhat-win/miniconda3/envs/test-lab-310/lib/python3.10/site-packages/langchain/chains/llm.py:316: UserWarning: The predict_and_parse method is deprecated, instead pass an output parser directly to LLMChain.\n",
      "  warnings.warn(\n",
      "/home/rbhat-win/miniconda3/envs/test-lab-310/lib/python3.10/site-packages/langchain/chains/llm.py:316: UserWarning: The predict_and_parse method is deprecated, instead pass an output parser directly to LLMChain.\n",
      "  warnings.warn(\n"
     ]
    },
    {
     "name": "stdout",
     "output_type": "stream",
     "text": [
      " The settlement instructions for Bahrain are as follows:\n",
      "\n",
      "Country: Bahrain\n",
      "Settlement Instructions:\n",
      "\n",
      "BANK: HSBC Bank Middle East, Qatar\n",
      "Account number (A/C): Deutsche Bank AG London A/C 001-044387-088 (stock)\n",
      "Place of settlement: DSMDQAQAXXX\n",
      "Use Beneficiary BIC: DEUTGB22EEQ (for HSBC Middle East, Bahrain BBMEQAQXXXX)\n",
      "\n",
      "Alternatively, for clearing through an agent, use the following details:\n",
      "Bank: Saudi British Bank (Riyadh)\n",
      "Account number (A/C): 086-003969-123 (Stock)\n",
      "Place of settlement: TSSMSAR1XXX\n",
      "Use Beneficiary BIC: DEUTGB22EEQ\n",
      "\n",
      "Sources:\n",
      "{'data/ssi-docs/db-ssi.pdf'}\n"
     ]
    }
   ],
   "source": [
    "process_llm_response(\n",
    "    qa_chain.invoke(\"Please provide settlement instruction details for BAHRAIN\")\n",
    ")"
   ]
  }
 ],
 "metadata": {
  "kernelspec": {
   "display_name": "test-lab-310",
   "language": "python",
   "name": "python3"
  },
  "language_info": {
   "codemirror_mode": {
    "name": "ipython",
    "version": 3
   },
   "file_extension": ".py",
   "mimetype": "text/x-python",
   "name": "python",
   "nbconvert_exporter": "python",
   "pygments_lexer": "ipython3",
   "version": "3.10.13"
  }
 },
 "nbformat": 4,
 "nbformat_minor": 2
}
